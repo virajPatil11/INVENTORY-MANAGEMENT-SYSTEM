{
 "cells": [
  {
   "cell_type": "markdown",
   "id": "9cd6d065",
   "metadata": {},
   "source": [
    "ADD AN NEW ITEM TO INVENTORY\n"
   ]
  },
  {
   "cell_type": "code",
   "execution_count": null,
   "id": "4264e4e4",
   "metadata": {},
   "outputs": [],
   "source": [
    "import json\n",
    "import time\n",
    "import datetime\n",
    "from datetime import date\n"
   ]
  },
  {
   "cell_type": "code",
   "execution_count": 2,
   "id": "88f6ab97",
   "metadata": {},
   "outputs": [],
   "source": [
    "\n",
    "list2 = []\n"
   ]
  },
  {
   "cell_type": "code",
   "execution_count": 3,
   "id": "f53a3d3d",
   "metadata": {},
   "outputs": [],
   "source": [
    "fd = open(\"record.json\",'r')\n",
    "r= fd.read()\n",
    "fd.close()\n",
    "\n",
    "record = json.loads(r)\n"
   ]
  },
  {
   "cell_type": "code",
   "execution_count": 4,
   "id": "32f2eeac",
   "metadata": {},
   "outputs": [
    {
     "name": "stdout",
     "output_type": "stream",
     "text": [
      "|----------ENTER THE PRODUCT ID----------|\n",
      "                   ID: 134\n",
      "|----------ENTER THE PRODUCT NAME--------|\n",
      "                 Name: iphone charger\n",
      "|----------Enter the QUNATITY OF PRODUCT-|\n",
      "                 Quantity: 50\n",
      "|----------ENTER THE BRAND NAME----------|\n",
      "                 Brand: Apple\n",
      "|----------ENTER THE PRODUCT PRICE-------|\n",
      "                 Price: 500\n",
      "|----------Expiry Date-------------------|\n",
      "                Date: 10 2040\n",
      "\n",
      "\n",
      "-------ITEM ADDED TO INVENTORY------\n",
      "\n",
      "------------------------------------------\n",
      "PRODUCT ID:  134\n",
      "QUANTITY:  50\n",
      "BRAND:  Apple\n",
      "PRODUCT_PRICE:  500\n",
      "\n",
      "-----------------------------------------\n"
     ]
    }
   ],
   "source": [
    "print(\"|----------ENTER THE PRODUCT ID----------|\")\n",
    "product_id = str(input(\"                   ID: \"))\n",
    "\n",
    "print(\"|----------ENTER THE PRODUCT NAME--------|\")\n",
    "product_name = str(input(\"                 Name: \"))\n",
    "\n",
    "\n",
    "print(\"|----------Enter the QUNATITY OF PRODUCT-|\")\n",
    "product_quantity = int(input(\"                 Quantity: \"))\n",
    "\n",
    "print(\"|----------ENTER THE BRAND NAME----------|\")\n",
    "brand = str(input(\"                 Brand: \"))\n",
    "\n",
    "\n",
    "print(\"|----------ENTER THE PRODUCT PRICE-------|\")\n",
    "product_price = int(input(\"                 Price: \"))\n",
    "\n",
    "print(\"|----------Expiry Date-------------------|\")\n",
    "Edate = str(input(\"                Date: \"))\n",
    "\n",
    "product_time = time.ctime()\n",
    "product_date = date.today()\n",
    "\n",
    "print(\"\\n\")\n",
    "print(\"-------ITEM ADDED TO INVENTORY------\")\n",
    "print(\"\\n------------------------------------------\")\n",
    "\n",
    "print(\"PRODUCT ID: \",product_id)\n",
    "print(\"QUANTITY: \",product_quantity)\n",
    "print(\"BRAND: \", brand)\n",
    "print(\"PRODUCT_PRICE: \", product_price)\n",
    "print(\"\\n-----------------------------------------\")\n"
   ]
  },
  {
   "cell_type": "code",
   "execution_count": 5,
   "id": "5c4555ee",
   "metadata": {},
   "outputs": [],
   "source": [
    "record[product_id] = {'productName': product_name, 'price': product_price, 'quantity': product_quantity,'brand':brand,'Ptime':product_time ,'Edate':Edate}\n",
    "list2.append(product_name + \",\" + str(product_quantity) + \",\" + str(product_price) + \",\" + brand + \",\"+ time.ctime()+ \",\" + Edate + \"\\n\")"
   ]
  },
  {
   "cell_type": "markdown",
   "id": "66b13835",
   "metadata": {},
   "source": [
    "ADDING ITEM TO TEXT FILE"
   ]
  },
  {
   "cell_type": "code",
   "execution_count": 6,
   "id": "e7add4f8",
   "metadata": {},
   "outputs": [],
   "source": [
    "fd = open(\"addItem.txt\",'a')\n",
    "for i in list2:\n",
    "    fd.write(i)\n",
    "    fd.close()\n"
   ]
  },
  {
   "cell_type": "markdown",
   "id": "ed3e1fe5",
   "metadata": {},
   "source": [
    "ADDING ITEM TO RECORD.JSON FILE"
   ]
  },
  {
   "cell_type": "code",
   "execution_count": 7,
   "id": "92221f0b",
   "metadata": {},
   "outputs": [
    {
     "name": "stdout",
     "output_type": "stream",
     "text": [
      "\n",
      "\n"
     ]
    }
   ],
   "source": [
    "js = json.dumps(record)\n",
    "fd = open(\"record.json\",'w')\n",
    "fd.write(js)\n",
    "print(\"\\n\")\n",
    "fd.close()\n"
   ]
  },
  {
   "cell_type": "code",
   "execution_count": null,
   "id": "0b41c09e",
   "metadata": {},
   "outputs": [],
   "source": []
  }
 ],
 "metadata": {
  "kernelspec": {
   "display_name": "Python 3",
   "language": "python",
   "name": "python3"
  },
  "language_info": {
   "codemirror_mode": {
    "name": "ipython",
    "version": 3
   },
   "file_extension": ".py",
   "mimetype": "text/x-python",
   "name": "python",
   "nbconvert_exporter": "python",
   "pygments_lexer": "ipython3",
   "version": "3.8.8"
  }
 },
 "nbformat": 4,
 "nbformat_minor": 5
}
