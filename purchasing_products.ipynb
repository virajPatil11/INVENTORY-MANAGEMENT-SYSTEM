{
 "cells": [
  {
   "cell_type": "markdown",
   "id": "0cd838ef",
   "metadata": {},
   "source": [
    "PURCHASING THE PRODUCT"
   ]
  },
  {
   "cell_type": "code",
   "execution_count": 21,
   "id": "c2a6f541",
   "metadata": {},
   "outputs": [],
   "source": [
    "import json\n",
    "\n",
    "list1 = []\n",
    "\n",
    "fd = open(\"record.json\",'r')\n",
    "r = fd.read()\n",
    "fd.close()\n",
    "\n",
    "records = json.loads(r)\n"
   ]
  },
  {
   "cell_type": "code",
   "execution_count": 22,
   "id": "46d03bcb",
   "metadata": {},
   "outputs": [
    {
     "name": "stdout",
     "output_type": "stream",
     "text": [
      "--Enter Your Name--\n",
      "-------: Anuj Sharma\n",
      "--Enter one item that you wish to purchase--\n",
      "-------: 115\n",
      "--Enter the quantity of products--\n",
      "-------: 3\n",
      "\n",
      "\n",
      "-----Get Relax Until We Calculate Your Bill-----\n",
      "-------------------------------------------------\n",
      "\n",
      "       ----------VIRAJ CART-------------\n",
      "Customer Name:  Anuj Sharma\n",
      "Product Purchase:  115\n",
      "Quantity Of Products:  3\n",
      "Time & Date of shopping:  Mon Sep  6 12:05:28 2021\n",
      "-------------------------------------------------\n",
      "\n",
      "Billing Amount:  30000\n",
      "\n",
      "------------------------------------------------\n",
      "\n",
      "****Thank You For Shopping****\n"
     ]
    }
   ],
   "source": [
    "import time\n",
    "\n",
    "print(\"--Enter Your Name--\")\n",
    "name = str(input(\"-------: \"))\n",
    "t = time.ctime()\n",
    "\n",
    "print(\"--Enter one item that you wish to purchase--\")\n",
    "ui_prod  = str(input(\"-------: \"))\n",
    "if ui_prod in records:\n",
    "    \n",
    "\n",
    "    print(\"--Enter the quantity of products--\")\n",
    "    ui_quant = int(input(\"-------: \"))\n",
    "\n",
    "    print(\"\\n\")\n",
    "    print(\"-----Get Relax Until We Calculate Your Bill-----\")\n",
    "    time.sleep(3)\n",
    "\n",
    "    print(\"-------------------------------------------------\\n\")\n",
    "    print(\"       ----------VIRAJ CART-------------\")\n",
    "    print(\"Customer Name: \", name);\n",
    "    print(\"Product Purchase: \", ui_prod)\n",
    "    print(\"Quantity Of Products: \",ui_quant)\n",
    "    print(\"Time & Date of shopping: \",t)\n",
    "    print(\"-------------------------------------------------\\n\")\n",
    "    print(\"Billing Amount: \", records[ui_prod]['price'] * ui_quant)\n",
    "    print(\"\\n------------------------------------------------\\n\")\n",
    "    print(\"****Thank You For Shopping****\")\n",
    "    records[ui_prod]['quantity'] = records[ui_prod]['quantity'] - ui_quant\n",
    "\n",
    "    list1.append(name + \",\" + ui_prod + \",\" + str(ui_quant) + \",\" + time.ctime() + \"\\n\")\n",
    "else:\n",
    "    print(\"Invalid Product Id\")\n"
   ]
  },
  {
   "cell_type": "code",
   "execution_count": 23,
   "id": "7379c545",
   "metadata": {},
   "outputs": [],
   "source": [
    "fd = open(\"sales.txt\",'a')\n",
    "for i in list1:\n",
    "    fd.write(i)\n",
    "    fd.close()\n"
   ]
  },
  {
   "cell_type": "code",
   "execution_count": 24,
   "id": "4906983b",
   "metadata": {},
   "outputs": [],
   "source": [
    "#Updating Inventory after puchase\n",
    "js = json.dumps(records)\n",
    "fd = open(\"record.json\",'w')\n",
    "fd.write(js)\n",
    "fd.close()\n"
   ]
  }
 ],
 "metadata": {
  "kernelspec": {
   "display_name": "Python 3",
   "language": "python",
   "name": "python3"
  },
  "language_info": {
   "codemirror_mode": {
    "name": "ipython",
    "version": 3
   },
   "file_extension": ".py",
   "mimetype": "text/x-python",
   "name": "python",
   "nbconvert_exporter": "python",
   "pygments_lexer": "ipython3",
   "version": "3.8.8"
  }
 },
 "nbformat": 4,
 "nbformat_minor": 5
}
